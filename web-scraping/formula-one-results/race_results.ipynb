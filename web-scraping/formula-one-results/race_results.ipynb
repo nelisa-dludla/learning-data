{
 "cells": [
  {
   "cell_type": "code",
   "execution_count": 12,
   "id": "f48b37d5-3703-4c7c-bfcc-b54773b87172",
   "metadata": {},
   "outputs": [],
   "source": [
    "from bs4 import BeautifulSoup\n",
    "import requests\n",
    "\n",
    "url = 'https://www.formula1.com/en/results.html/2024/races.html'\n",
    "\n",
    "page = requests.get(url)\n",
    "page = BeautifulSoup(page.text, 'html.parser')"
   ]
  },
  {
   "cell_type": "code",
   "execution_count": 13,
   "id": "e1d08b12-f5c1-43d8-b377-6fd46c1e8693",
   "metadata": {},
   "outputs": [
    {
     "name": "stdout",
     "output_type": "stream",
     "text": [
      "[<th class=\"limiter\"></th>, <th>Grand Prix</th>, <th class=\"hide-for-mobile\">Date</th>, <th>Winner</th>, <th>Car</th>, <th class=\"hide-for-mobile\">Laps</th>, <th class=\"hide-for-tablet\">Time</th>, <th class=\"limiter\"></th>]\n"
     ]
    }
   ],
   "source": [
    "table_headers = page.find_all('th')\n",
    "print(table_headers)"
   ]
  },
  {
   "cell_type": "code",
   "execution_count": 14,
   "id": "0c82f35c-f962-47ba-8e8b-3f309982bce7",
   "metadata": {},
   "outputs": [
    {
     "name": "stdout",
     "output_type": "stream",
     "text": [
      "['', 'Grand Prix', 'Date', 'Winner', 'Car', 'Laps', 'Time', '']\n"
     ]
    }
   ],
   "source": [
    "titles = [title.text for title in table_headers]\n",
    "print(titles)"
   ]
  },
  {
   "cell_type": "code",
   "execution_count": 15,
   "id": "2e7b243d-6335-45f0-a724-0cb8a64fc943",
   "metadata": {},
   "outputs": [
    {
     "name": "stdout",
     "output_type": "stream",
     "text": [
      "['Grand Prix', 'Date', 'Winner', 'Car', 'Laps', 'Time']\n"
     ]
    }
   ],
   "source": [
    "while \"\" in titles:\n",
    "    titles.remove(\"\")\n",
    "print(titles)"
   ]
  },
  {
   "cell_type": "code",
   "execution_count": 16,
   "id": "813d6457-32f9-4369-9bc5-4e217a37633f",
   "metadata": {},
   "outputs": [],
   "source": [
    "import pandas as pd"
   ]
  },
  {
   "cell_type": "code",
   "execution_count": 17,
   "id": "670528d9-39ba-4593-a27d-84246bec3155",
   "metadata": {},
   "outputs": [
    {
     "data": {
      "text/html": [
       "<div>\n",
       "<style scoped>\n",
       "    .dataframe tbody tr th:only-of-type {\n",
       "        vertical-align: middle;\n",
       "    }\n",
       "\n",
       "    .dataframe tbody tr th {\n",
       "        vertical-align: top;\n",
       "    }\n",
       "\n",
       "    .dataframe thead th {\n",
       "        text-align: right;\n",
       "    }\n",
       "</style>\n",
       "<table border=\"1\" class=\"dataframe\">\n",
       "  <thead>\n",
       "    <tr style=\"text-align: right;\">\n",
       "      <th></th>\n",
       "      <th>Grand Prix</th>\n",
       "      <th>Date</th>\n",
       "      <th>Winner</th>\n",
       "      <th>Car</th>\n",
       "      <th>Laps</th>\n",
       "      <th>Time</th>\n",
       "    </tr>\n",
       "  </thead>\n",
       "  <tbody>\n",
       "  </tbody>\n",
       "</table>\n",
       "</div>"
      ],
      "text/plain": [
       "Empty DataFrame\n",
       "Columns: [Grand Prix, Date, Winner, Car, Laps, Time]\n",
       "Index: []"
      ]
     },
     "execution_count": 17,
     "metadata": {},
     "output_type": "execute_result"
    }
   ],
   "source": [
    "df = pd.DataFrame(columns=titles)\n",
    "df"
   ]
  },
  {
   "cell_type": "code",
   "execution_count": 18,
   "id": "b63db60a-d29e-49ba-88e2-8854451d4f60",
   "metadata": {},
   "outputs": [],
   "source": [
    "table_rows = page.find_all('tr')\n",
    "for row in table_rows[1:]:\n",
    "    row_data = row.find_all('td')\n",
    "    individual_row_data = [data.text.strip().replace('\\n', ' ') for data in row_data]\n",
    "    individual_row_data[3] = individual_row_data[3][:-4]\n",
    "\n",
    "    length = len(df)\n",
    "    df.loc[length] = individual_row_data[1:7]"
   ]
  },
  {
   "cell_type": "code",
   "execution_count": 19,
   "id": "5d73d9f4-56a7-49f2-af11-c3aef0eca444",
   "metadata": {},
   "outputs": [
    {
     "data": {
      "text/html": [
       "<div>\n",
       "<style scoped>\n",
       "    .dataframe tbody tr th:only-of-type {\n",
       "        vertical-align: middle;\n",
       "    }\n",
       "\n",
       "    .dataframe tbody tr th {\n",
       "        vertical-align: top;\n",
       "    }\n",
       "\n",
       "    .dataframe thead th {\n",
       "        text-align: right;\n",
       "    }\n",
       "</style>\n",
       "<table border=\"1\" class=\"dataframe\">\n",
       "  <thead>\n",
       "    <tr style=\"text-align: right;\">\n",
       "      <th></th>\n",
       "      <th>Grand Prix</th>\n",
       "      <th>Date</th>\n",
       "      <th>Winner</th>\n",
       "      <th>Car</th>\n",
       "      <th>Laps</th>\n",
       "      <th>Time</th>\n",
       "    </tr>\n",
       "  </thead>\n",
       "  <tbody>\n",
       "    <tr>\n",
       "      <th>0</th>\n",
       "      <td>Bahrain</td>\n",
       "      <td>02 Mar 2024</td>\n",
       "      <td>Max Verstappen</td>\n",
       "      <td>Red Bull Racing Honda RBPT</td>\n",
       "      <td>57</td>\n",
       "      <td>1:31:44.742</td>\n",
       "    </tr>\n",
       "    <tr>\n",
       "      <th>1</th>\n",
       "      <td>Saudi Arabia</td>\n",
       "      <td>09 Mar 2024</td>\n",
       "      <td>Max Verstappen</td>\n",
       "      <td>Red Bull Racing Honda RBPT</td>\n",
       "      <td>50</td>\n",
       "      <td>1:20:43.273</td>\n",
       "    </tr>\n",
       "    <tr>\n",
       "      <th>2</th>\n",
       "      <td>Australia</td>\n",
       "      <td>24 Mar 2024</td>\n",
       "      <td>Carlos Sainz</td>\n",
       "      <td>Ferrari</td>\n",
       "      <td>58</td>\n",
       "      <td>1:20:26.843</td>\n",
       "    </tr>\n",
       "    <tr>\n",
       "      <th>3</th>\n",
       "      <td>Japan</td>\n",
       "      <td>07 Apr 2024</td>\n",
       "      <td>Max Verstappen</td>\n",
       "      <td>Red Bull Racing Honda RBPT</td>\n",
       "      <td>53</td>\n",
       "      <td>1:54:23.566</td>\n",
       "    </tr>\n",
       "    <tr>\n",
       "      <th>4</th>\n",
       "      <td>China</td>\n",
       "      <td>21 Apr 2024</td>\n",
       "      <td>Max Verstappen</td>\n",
       "      <td>Red Bull Racing Honda RBPT</td>\n",
       "      <td>56</td>\n",
       "      <td>1:40:52.554</td>\n",
       "    </tr>\n",
       "    <tr>\n",
       "      <th>5</th>\n",
       "      <td>Miami</td>\n",
       "      <td>05 May 2024</td>\n",
       "      <td>Lando Norris</td>\n",
       "      <td>McLaren Mercedes</td>\n",
       "      <td>57</td>\n",
       "      <td>1:30:49.876</td>\n",
       "    </tr>\n",
       "    <tr>\n",
       "      <th>6</th>\n",
       "      <td>Emilia Romagna</td>\n",
       "      <td>19 May 2024</td>\n",
       "      <td>Max Verstappen</td>\n",
       "      <td>Red Bull Racing Honda RBPT</td>\n",
       "      <td>63</td>\n",
       "      <td>1:25:25.252</td>\n",
       "    </tr>\n",
       "    <tr>\n",
       "      <th>7</th>\n",
       "      <td>Monaco</td>\n",
       "      <td>26 May 2024</td>\n",
       "      <td>Charles Leclerc</td>\n",
       "      <td>Ferrari</td>\n",
       "      <td>78</td>\n",
       "      <td>2:23:15.554</td>\n",
       "    </tr>\n",
       "    <tr>\n",
       "      <th>8</th>\n",
       "      <td>Canada</td>\n",
       "      <td>09 Jun 2024</td>\n",
       "      <td>Max Verstappen</td>\n",
       "      <td>Red Bull Racing Honda RBPT</td>\n",
       "      <td>70</td>\n",
       "      <td>1:45:47.927</td>\n",
       "    </tr>\n",
       "    <tr>\n",
       "      <th>9</th>\n",
       "      <td>Spain</td>\n",
       "      <td>23 Jun 2024</td>\n",
       "      <td>Max Verstappen</td>\n",
       "      <td>Red Bull Racing Honda RBPT</td>\n",
       "      <td>66</td>\n",
       "      <td>1:28:20.227</td>\n",
       "    </tr>\n",
       "    <tr>\n",
       "      <th>10</th>\n",
       "      <td>Austria</td>\n",
       "      <td>30 Jun 2024</td>\n",
       "      <td>George Russell</td>\n",
       "      <td>Mercedes</td>\n",
       "      <td>71</td>\n",
       "      <td>1:24:22.798</td>\n",
       "    </tr>\n",
       "    <tr>\n",
       "      <th>11</th>\n",
       "      <td>Great Britain</td>\n",
       "      <td>07 Jul 2024</td>\n",
       "      <td>Lewis Hamilton</td>\n",
       "      <td>Mercedes</td>\n",
       "      <td>52</td>\n",
       "      <td>1:22:27.059</td>\n",
       "    </tr>\n",
       "  </tbody>\n",
       "</table>\n",
       "</div>"
      ],
      "text/plain": [
       "        Grand Prix         Date           Winner                         Car  \\\n",
       "0          Bahrain  02 Mar 2024   Max Verstappen  Red Bull Racing Honda RBPT   \n",
       "1     Saudi Arabia  09 Mar 2024   Max Verstappen  Red Bull Racing Honda RBPT   \n",
       "2        Australia  24 Mar 2024     Carlos Sainz                     Ferrari   \n",
       "3            Japan  07 Apr 2024   Max Verstappen  Red Bull Racing Honda RBPT   \n",
       "4            China  21 Apr 2024   Max Verstappen  Red Bull Racing Honda RBPT   \n",
       "5            Miami  05 May 2024     Lando Norris            McLaren Mercedes   \n",
       "6   Emilia Romagna  19 May 2024   Max Verstappen  Red Bull Racing Honda RBPT   \n",
       "7           Monaco  26 May 2024  Charles Leclerc                     Ferrari   \n",
       "8           Canada  09 Jun 2024   Max Verstappen  Red Bull Racing Honda RBPT   \n",
       "9            Spain  23 Jun 2024   Max Verstappen  Red Bull Racing Honda RBPT   \n",
       "10         Austria  30 Jun 2024   George Russell                    Mercedes   \n",
       "11   Great Britain  07 Jul 2024   Lewis Hamilton                    Mercedes   \n",
       "\n",
       "   Laps         Time  \n",
       "0    57  1:31:44.742  \n",
       "1    50  1:20:43.273  \n",
       "2    58  1:20:26.843  \n",
       "3    53  1:54:23.566  \n",
       "4    56  1:40:52.554  \n",
       "5    57  1:30:49.876  \n",
       "6    63  1:25:25.252  \n",
       "7    78  2:23:15.554  \n",
       "8    70  1:45:47.927  \n",
       "9    66  1:28:20.227  \n",
       "10   71  1:24:22.798  \n",
       "11   52  1:22:27.059  "
      ]
     },
     "execution_count": 19,
     "metadata": {},
     "output_type": "execute_result"
    }
   ],
   "source": [
    "df"
   ]
  },
  {
   "cell_type": "code",
   "execution_count": 23,
   "id": "807d5ac4-ddd4-447d-803f-5e1e9018bfb2",
   "metadata": {},
   "outputs": [],
   "source": [
    "df.to_csv(r'/home/duller/dev/data-engineering/learning-data/web-scraping/formula-one-results/race_results.csv', index=False)"
   ]
  },
  {
   "cell_type": "code",
   "execution_count": null,
   "id": "54f4060d-99a4-4be5-bacb-8e9d0bfa3bcc",
   "metadata": {},
   "outputs": [],
   "source": []
  }
 ],
 "metadata": {
  "kernelspec": {
   "display_name": "Python 3 (ipykernel)",
   "language": "python",
   "name": "python3"
  },
  "language_info": {
   "codemirror_mode": {
    "name": "ipython",
    "version": 3
   },
   "file_extension": ".py",
   "mimetype": "text/x-python",
   "name": "python",
   "nbconvert_exporter": "python",
   "pygments_lexer": "ipython3",
   "version": "3.10.12"
  }
 },
 "nbformat": 4,
 "nbformat_minor": 5
}
